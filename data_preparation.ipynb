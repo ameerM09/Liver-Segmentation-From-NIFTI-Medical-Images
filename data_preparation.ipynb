{
 "cells": [
  {
   "cell_type": "markdown",
   "metadata": {},
   "source": [
    "### Import the necessary dependencies"
   ]
  },
  {
   "cell_type": "code",
   "execution_count": 1,
   "metadata": {},
   "outputs": [],
   "source": [
    "from glob import glob \n",
    "import nibabel as nib\n",
    "import numpy as np\n",
    "import dicom2nifti\n",
    "import random\n",
    "import shutil\n",
    "import os"
   ]
  },
  {
   "cell_type": "markdown",
   "metadata": {},
   "source": [
    "### Script to create different directories each with the same number of DICOM images or slices\n",
    "\n",
    "### Adjust the \"slices_per_folder\" variable as per preference"
   ]
  },
  {
   "cell_type": "code",
   "execution_count": 16,
   "metadata": {},
   "outputs": [],
   "source": [
    "def format_slices_per_folder(slices_per_folder, input_path, output_path):\n",
    "    for patient_path in glob(input_path + \"/*\"):\n",
    "        patient_num = os.path.basename(os.path.normpath(patient_path))\n",
    "\n",
    "        folders_num = int(len(glob(patient_path + \"/*\")) / slices_per_folder)\n",
    "\n",
    "        for folder_num in range(folders_num):\n",
    "            output_path_name = os.path.join(output_path, patient_num + \"_\" + str(folder_num))\n",
    "\n",
    "            os.mkdir(output_path_name)\n",
    "\n",
    "            for i, file in enumerate(glob(patient_path + \"/*\")):\n",
    "                if i == slices_per_folder:\n",
    "                    break\n",
    "\n",
    "                shutil.move(file, output_path_name)\n",
    "\n",
    "format_slices_per_folder(slices_per_folder = 50, input_path = \"G:/DL for Liver Segmentation/renewed_dicom_file/labels\", output_path = \"G:/DL for Liver Segmentation/renewed_dicom_group/labels\")"
   ]
  },
  {
   "cell_type": "markdown",
   "metadata": {},
   "source": [
    "### Script to ensure that all directories contain the same number of slices"
   ]
  },
  {
   "cell_type": "code",
   "execution_count": 36,
   "metadata": {},
   "outputs": [],
   "source": [
    "def count_elements_in_folders(directory_path):\n",
    "    folder_counts = {}\n",
    "    \n",
    "    for folder in glob(os.path.join(directory_path, '*')):\n",
    "        if os.path.isdir(folder):\n",
    "            folder_name = os.path.basename(folder)\n",
    "            element_count = len(glob(os.path.join(folder, '*')))\n",
    "            folder_counts[folder_name] = element_count\n",
    "            \n",
    "    return folder_counts\n",
    "\n",
    "def sort_numerically(folders):\n",
    "    # Extract numbers from folder names for sorting\n",
    "    return sorted(folders, key=lambda x: int(''.join(filter(str.isdigit, x)) or 0))\n",
    "\n",
    "# Example usage of the new feature:\n",
    "directory_path = \"G:/DL for Liver Segmentation/dicom_groups/labels\"\n",
    "folder_counts = count_elements_in_folders(directory_path)\n",
    "\n",
    "sorted_folders = sort_numerically(folder_counts.keys())\n",
    "\n",
    "for folder in sorted_folders:\n",
    "    if folder_counts[folder] != 50:\n",
    "        print(f\"Folder '{folder}' does not contain 50 elements.\")"
   ]
  },
  {
   "cell_type": "markdown",
   "metadata": {},
   "source": [
    "### Script to convert the DICOM series of patient images in each folder into compressed .nii files"
   ]
  },
  {
   "cell_type": "code",
   "execution_count": 26,
   "metadata": {},
   "outputs": [],
   "source": [
    "def dicom_to_nifti_conversion_for_images(images_input_path, images_output_path):\n",
    "\n",
    "    list_of_images = glob(images_input_path)\n",
    "    \n",
    "    for patient_index in list_of_images:\n",
    "        patient_num = os.path.basename(os.path.normpath(patient_index))\n",
    "        dicom2nifti.dicom_series_to_nifti(patient_index, os.path.join(images_output_path, patient_num + \".nii.gz\"))\n",
    "\n",
    "dicom_to_nifti_conversion_for_images(images_input_path = \"G:/DL for Liver Segmentation/dicom_groups/images/*\", images_output_path = \"G:/DL for Liver Segmentation/final_nifti_files/images\")"
   ]
  },
  {
   "cell_type": "markdown",
   "metadata": {},
   "source": [
    "### Script to convert the DICOM series of patient segmentations in each folder into compressed .nii files"
   ]
  },
  {
   "cell_type": "code",
   "execution_count": null,
   "metadata": {},
   "outputs": [],
   "source": [
    "def dicom_to_nifti_conversion_for_labels(labels_input_path, labels_output_path):\n",
    "\n",
    "    list_of_labels = glob(labels_input_path)\n",
    "    \n",
    "    for patient_index in list_of_labels:\n",
    "        patient_num = os.path.basename(os.path.normpath(patient_index))\n",
    "        output_file = dicom2nifti.dicom_series_to_nifti(patient_index, os.path.join(labels_output_path, patient_num + \".nii.gz\"))\n",
    "\n",
    "        # Added a try and except method because label conversion from DICOM series into .nii.gz files typically involves slice increment errors \n",
    "        try:\n",
    "            dicom2nifti.dicom_series_to_nifti(patient_index, output_file)\n",
    "        except Exception as e:\n",
    "            print(f\"Error processing {patient_index}: {e}\")\n",
    "\n",
    "dicom_to_nifti_conversion_for_labels(labels_input_path = \"G:/DL for Liver Segmentation/dicom_groups/labels/*\", labels_output_path = \"G:/DL for Liver Segmentation/final_nifti_files/labels\")"
   ]
  },
  {
   "cell_type": "code",
   "execution_count": null,
   "metadata": {},
   "outputs": [],
   "source": [
    "import pydicom\n",
    "\n",
    "def check_dicom_metadata(directory):\n",
    "    dicom_files = sorted(glob(os.path.join(directory, \"*.dcm\")))\n",
    "    \n",
    "    for dicom_file in dicom_files:\n",
    "        ds = pydicom.dcmread(dicom_file)\n",
    "        print(f\"File: {dicom_file}\")\n",
    "        print(f\"  Instance Number: {ds.InstanceNumber}\")\n",
    "        print(f\"  Slice Location: {ds.SliceLocation if 'SliceLocation' in ds else 'N/A'}\")\n",
    "        print(f\"  Image Position (Patient): {ds.ImagePositionPatient if 'ImagePositionPatient' in ds else 'N/A'}\")\n",
    "        print(f\"  Slice Thickness: {ds.SliceThickness if 'SliceThickness' in ds else 'N/A'}\")\n",
    "        print(f\"  Spacing Between Slices: {ds.SpacingBetweenSlices if 'SpacingBetweenSlices' in ds else 'N/A'}\")\n",
    "        print()\n",
    "\n",
    "# Replace with the specific directory of the problematic series\n",
    "check_dicom_metadata(\"G:/DL for Liver Segmentation/dicom_groups/labels/liver_102_3\")"
   ]
  },
  {
   "cell_type": "markdown",
   "metadata": {},
   "source": [
    "### Script to check which image files don't contain any labels (segmentations) of the liver - such files can potentially be moved to a separate directory as they may not be beneficial for the final deep learning model"
   ]
  },
  {
   "cell_type": "code",
   "execution_count": null,
   "metadata": {},
   "outputs": [],
   "source": [
    "def find_empty_slices(input_labels_path):\n",
    "    files_list = glob(input_labels_path)\n",
    "\n",
    "    file_count_with_liver_visible = 0\n",
    "    file_count_without_liver = 0\n",
    "\n",
    "    files_with_liver = []\n",
    "    files_without_liver = []\n",
    "\n",
    "    for file in files_list:\n",
    "\n",
    "        nifti_file = nib.load(file)\n",
    "        frame_data = nifti_file.get_fdata()\n",
    "\n",
    "        num_of_items = np.unique(frame_data)\n",
    "\n",
    "        if len(num_of_items) > 1:\n",
    "            files_with_liver.append(file)\n",
    "\n",
    "            file_count_with_liver_visible += 1\n",
    "        \n",
    "        else:\n",
    "            files_without_liver.append(file)\n",
    "\n",
    "            file_count_without_liver += 1\n",
    "\n",
    "            # shutil.move(file, output_labels_path)\n",
    "\n",
    "    print(f\"Total # of files showcasing liver: {file_count_with_liver_visible}\")\n",
    "    print(f\"Total # of files not showcasing liver: {file_count_without_liver}\")\n",
    "\n",
    "find_empty_slices(input_labels_path = \"G:/DL for Liver Segmentation/final_nifti_files/labelsVal/*\")"
   ]
  },
  {
   "cell_type": "code",
   "execution_count": null,
   "metadata": {},
   "outputs": [],
   "source": [
    "def create_val_dataset(input_labels_path, output_labels_path, liver_samples = 90, non_liver_samples = 20):\n",
    "    # Ensure the output directory exists\n",
    "    os.makedirs(output_labels_path, exist_ok=True)\n",
    "\n",
    "    files_list = glob(input_labels_path)\n",
    "\n",
    "    file_count_with_liver_visible = 0\n",
    "    file_count_without_liver = 0\n",
    "\n",
    "    files_with_liver = []\n",
    "    files_without_liver = []\n",
    "\n",
    "    for file in files_list:\n",
    "        nifti_file = nib.load(file)\n",
    "        frame_data = nifti_file.get_fdata()\n",
    "\n",
    "        num_of_items = np.unique(frame_data)\n",
    "\n",
    "        if len(num_of_items) > 1:\n",
    "            files_with_liver.append(file)\n",
    "            file_count_with_liver_visible += 1\n",
    "        else:\n",
    "            files_without_liver.append(file)\n",
    "            file_count_without_liver += 1\n",
    "\n",
    "    print(f\"Total # of files showcasing liver: {file_count_with_liver_visible}\")\n",
    "    print(f\"Total # of files not showcasing liver: {file_count_without_liver}\")\n",
    "\n",
    "    # Randomly select files\n",
    "    selected_files_with_liver = random.sample(files_with_liver, min(liver_samples, len(files_with_liver)))\n",
    "    selected_files_without_liver = random.sample(files_without_liver, min(non_liver_samples, len(files_without_liver)))\n",
    "\n",
    "    # Combine the selected files\n",
    "    selected_files = selected_files_with_liver + selected_files_without_liver\n",
    "\n",
    "    # Move the selected files to the output directory\n",
    "    for file in selected_files:\n",
    "        shutil.move(file, os.path.join(output_labels_path, os.path.basename(file)))\n",
    "\n",
    "    print(f\"Moved {len(selected_files)} files to {output_labels_path}\")\n",
    "\n",
    "# Example usage\n",
    "create_val_dataset(\n",
    "    input_labels_path = \"G:/DL for Liver Segmentation/final_nifti_files/labels/*\",\n",
    "    output_labels_path = \"G:/DL for Liver Segmentation/final_nifti_files/labelsVal\",\n",
    "    liver_samples = 90,\n",
    "    non_liver_samples = 20\n",
    ")\n"
   ]
  },
  {
   "cell_type": "code",
   "execution_count": null,
   "metadata": {},
   "outputs": [],
   "source": [
    "def move_matching_files(first_input_dir, second_input_dir, output_dir):\n",
    "    # Ensure the output directory exists\n",
    "    os.makedirs(output_dir, exist_ok=True)\n",
    "\n",
    "    # Get the list of files in the first input directory\n",
    "    first_dir_files = set(os.listdir(first_input_dir))\n",
    "\n",
    "    # Iterate through the files in the second input directory\n",
    "    for file_name in os.listdir(second_input_dir):\n",
    "        if file_name in first_dir_files:\n",
    "            # Construct full file paths\n",
    "            source_file = os.path.join(second_input_dir, file_name)\n",
    "            destination_file = os.path.join(output_dir, file_name)\n",
    "            \n",
    "            # Move the file\n",
    "            shutil.move(source_file, destination_file)\n",
    "\n",
    "            print(f\"Moved {file_name} to {output_dir}\")\n",
    "\n",
    "# Example usage\n",
    "move_matching_files(\n",
    "    first_input_dir=\"G:/DL for Liver Segmentation/final_nifti_files/labelsVal\",\n",
    "    second_input_dir=\"G:/DL for Liver Segmentation/final_nifti_files/images\",\n",
    "    output_dir=\"G:/DL for Liver Segmentation/final_nifti_files/imagesVal\"\n",
    ")"
   ]
  }
 ],
 "metadata": {
  "kernelspec": {
   "display_name": "liver-segmentation",
   "language": "python",
   "name": "python3"
  },
  "language_info": {
   "codemirror_mode": {
    "name": "ipython",
    "version": 3
   },
   "file_extension": ".py",
   "mimetype": "text/x-python",
   "name": "python",
   "nbconvert_exporter": "python",
   "pygments_lexer": "ipython3",
   "version": "3.12.3"
  }
 },
 "nbformat": 4,
 "nbformat_minor": 2
}
